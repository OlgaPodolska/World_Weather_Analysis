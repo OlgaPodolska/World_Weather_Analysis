{
 "cells": [
  {
   "cell_type": "markdown",
   "metadata": {},
   "source": [
    "## Deliverable 3. Create a Travel Itinerary Map."
   ]
  },
  {
   "cell_type": "code",
   "execution_count": 4,
   "metadata": {},
   "outputs": [],
   "source": [
    "# Dependencies and Setup\n",
    "import pandas as pd\n",
    "import requests\n",
    "import gmaps\n",
    "import os\n",
    "\n",
    "# Import API key\n",
    "from config import g_key\n",
    "\n",
    "# Configure gmaps\n",
    "gmaps.configure(api_key=g_key)"
   ]
  },
  {
   "cell_type": "code",
   "execution_count": 5,
   "metadata": {},
   "outputs": [
    {
     "data": {
      "text/html": [
       "<div>\n",
       "<style scoped>\n",
       "    .dataframe tbody tr th:only-of-type {\n",
       "        vertical-align: middle;\n",
       "    }\n",
       "\n",
       "    .dataframe tbody tr th {\n",
       "        vertical-align: top;\n",
       "    }\n",
       "\n",
       "    .dataframe thead th {\n",
       "        text-align: right;\n",
       "    }\n",
       "</style>\n",
       "<table border=\"1\" class=\"dataframe\">\n",
       "  <thead>\n",
       "    <tr style=\"text-align: right;\">\n",
       "      <th></th>\n",
       "      <th>City_ID</th>\n",
       "      <th>City</th>\n",
       "      <th>Country</th>\n",
       "      <th>Max Temp</th>\n",
       "      <th>Current Description</th>\n",
       "      <th>Lat</th>\n",
       "      <th>Lng</th>\n",
       "      <th>Hotel Name</th>\n",
       "    </tr>\n",
       "  </thead>\n",
       "  <tbody>\n",
       "    <tr>\n",
       "      <th>0</th>\n",
       "      <td>7</td>\n",
       "      <td>Atuona</td>\n",
       "      <td>PF</td>\n",
       "      <td>78.31</td>\n",
       "      <td>light rain</td>\n",
       "      <td>-9.8000</td>\n",
       "      <td>-139.0333</td>\n",
       "      <td>Villa Enata</td>\n",
       "    </tr>\n",
       "    <tr>\n",
       "      <th>1</th>\n",
       "      <td>8</td>\n",
       "      <td>Kapaa</td>\n",
       "      <td>US</td>\n",
       "      <td>82.38</td>\n",
       "      <td>clear sky</td>\n",
       "      <td>22.0752</td>\n",
       "      <td>-159.3190</td>\n",
       "      <td>Sheraton Kauai Coconut Beach Resort</td>\n",
       "    </tr>\n",
       "    <tr>\n",
       "      <th>2</th>\n",
       "      <td>17</td>\n",
       "      <td>Sharjah</td>\n",
       "      <td>AE</td>\n",
       "      <td>75.18</td>\n",
       "      <td>dust</td>\n",
       "      <td>25.3573</td>\n",
       "      <td>55.4033</td>\n",
       "      <td>Swiss Belhotel Sharjah</td>\n",
       "    </tr>\n",
       "    <tr>\n",
       "      <th>3</th>\n",
       "      <td>19</td>\n",
       "      <td>Vaini</td>\n",
       "      <td>TO</td>\n",
       "      <td>75.36</td>\n",
       "      <td>broken clouds</td>\n",
       "      <td>-21.2000</td>\n",
       "      <td>-175.2000</td>\n",
       "      <td>Keleti Beach Resort</td>\n",
       "    </tr>\n",
       "    <tr>\n",
       "      <th>4</th>\n",
       "      <td>22</td>\n",
       "      <td>Itarema</td>\n",
       "      <td>BR</td>\n",
       "      <td>77.95</td>\n",
       "      <td>broken clouds</td>\n",
       "      <td>-2.9248</td>\n",
       "      <td>-39.9167</td>\n",
       "      <td>Sea Lounge! Bar, Club &amp; Restaurant</td>\n",
       "    </tr>\n",
       "  </tbody>\n",
       "</table>\n",
       "</div>"
      ],
      "text/plain": [
       "   City_ID     City Country  Max Temp Current Description      Lat       Lng  \\\n",
       "0        7   Atuona      PF     78.31          light rain  -9.8000 -139.0333   \n",
       "1        8    Kapaa      US     82.38           clear sky  22.0752 -159.3190   \n",
       "2       17  Sharjah      AE     75.18                dust  25.3573   55.4033   \n",
       "3       19    Vaini      TO     75.36       broken clouds -21.2000 -175.2000   \n",
       "4       22  Itarema      BR     77.95       broken clouds  -2.9248  -39.9167   \n",
       "\n",
       "                            Hotel Name  \n",
       "0                          Villa Enata  \n",
       "1  Sheraton Kauai Coconut Beach Resort  \n",
       "2               Swiss Belhotel Sharjah  \n",
       "3                  Keleti Beach Resort  \n",
       "4   Sea Lounge! Bar, Club & Restaurant  "
      ]
     },
     "execution_count": 5,
     "metadata": {},
     "output_type": "execute_result"
    }
   ],
   "source": [
    "# 1. Read the WeatherPy_vacation.csv into a DataFrame.\n",
    "vacation_df = pd.read_csv(os.path.join(\"..\",\"Vacation_Search\",\"WeatherPy_vacation.csv\"))\n",
    "vacation_df.head()"
   ]
  },
  {
   "cell_type": "code",
   "execution_count": 7,
   "metadata": {},
   "outputs": [],
   "source": [
    "# 2. Using the template add the city name, the country code, the weather description and maximum temperature for the city.\n",
    "info_box_template = \"\"\"\n",
    "<dl>\n",
    "<dt>City</dt><dd>{City}</dd>\n",
    "<dt>Country</dt><dd>{Country}</dd>\n",
    "<dt>Weather Description</dt><dd>{Current Description}</dd>\n",
    "<dt>Max Temp</dt><dd>{Max Temp} °F</dd>\n",
    "</dl>\n",
    "\"\"\"\n",
    "\n",
    "# 3a. Get the data from each row and add it to the formatting template and store the data in a list.\n",
    "hotel_info = [info_box_template.format(**row) for index, row in vacation_df.iterrows()]\n",
    "\n",
    "# 3b. Get the latitude and longitude from each row and store in a new DataFrame.\n",
    "locations = vacation_df[[\"Lat\", \"Lng\"]]"
   ]
  },
  {
   "cell_type": "code",
   "execution_count": 8,
   "metadata": {},
   "outputs": [
    {
     "data": {
      "application/vnd.jupyter.widget-view+json": {
       "model_id": "1fadfca4e14a41549826c6bd566f8d49",
       "version_major": 2,
       "version_minor": 0
      },
      "text/plain": [
       "Figure(layout=FigureLayout(height='420px'))"
      ]
     },
     "metadata": {},
     "output_type": "display_data"
    }
   ],
   "source": [
    "# 4a. Add a marker layer for each city to the map.\n",
    "fig = gmaps.figure(center=(30.0, 31.0), zoom_level=1.5)\n",
    "markers = gmaps.marker_layer(locations, info_box_content=hotel_info)\n",
    "fig.add_layer(markers)\n",
    "# 4b. Display the figure\n",
    "fig"
   ]
  },
  {
   "cell_type": "code",
   "execution_count": 9,
   "metadata": {},
   "outputs": [],
   "source": [
    "# From the map above pick 4 cities and create a vacation itinerary route to travel between the four cities. \n",
    "# 5. Create DataFrames for each city by filtering the 'vacation_df' using the loc method. \n",
    "# Hint: The starting and ending city should be the same city.\n",
    "\n",
    "vacation_start = \"Meadow Lake\"\n",
    "vacation_end = \"Meadow Lake\"\n",
    "city2 = \"Tucumcari\"\n",
    "city3 = \"Rancho Palos Verdes\"\n",
    "city4 = \"Lompoc\" \n",
    "\n",
    "vacation_start = vacation_df.loc[vacation_df[\"City\"] == vacation_start]\n",
    "vacation_end = vacation_df.loc[vacation_df[\"City\"] == vacation_end]  \n",
    "vacation_stop2 = vacation_df.loc[vacation_df[\"City\"] == city2]\n",
    "vacation_stop3 = vacation_df.loc[vacation_df[\"City\"] == city3] \n",
    "vacation_stop4 = vacation_df.loc[vacation_df[\"City\"] == city4] "
   ]
  },
  {
   "cell_type": "code",
   "execution_count": 10,
   "metadata": {},
   "outputs": [],
   "source": [
    "# 6. Get the latitude-longitude pairs as tuples from each city DataFrame using the to_numpy function and list indexing.\n",
    "start = vacation_start[[\"Lat\", \"Lng\"]].to_numpy()[0]\n",
    "end = vacation_end[[\"Lat\", \"Lng\"]].to_numpy()[0]\n",
    "stop1 = vacation_stop2[[\"Lat\", \"Lng\"]].to_numpy()[0]\n",
    "stop2 = vacation_stop3[[\"Lat\", \"Lng\"]].to_numpy()[0]\n",
    "stop3 = vacation_stop4[[\"Lat\", \"Lng\"]].to_numpy()[0]  "
   ]
  },
  {
   "cell_type": "code",
   "execution_count": 11,
   "metadata": {
    "scrolled": true
   },
   "outputs": [
    {
     "data": {
      "application/vnd.jupyter.widget-view+json": {
       "model_id": "cdb1e9a1a41543dc9450205a0ff23fae",
       "version_major": 2,
       "version_minor": 0
      },
      "text/plain": [
       "Figure(layout=FigureLayout(height='420px'))"
      ]
     },
     "metadata": {},
     "output_type": "display_data"
    }
   ],
   "source": [
    "# 7. Create a direction layer map using the start and end latitude-longitude pairs,\n",
    "# and stop1, stop2, and stop3 as the waypoints. The travel_mode should be \"DRIVING\", \"BICYCLING\", or \"WALKING\".\n",
    "\n",
    "fig = gmaps.figure()\n",
    "travel_route = gmaps.directions_layer(start, end, waypoints=[stop1,stop2,stop3], travel_mode=\"DRIVING\" or \"BICYCLING\" or \"WALKING\")\n",
    "fig.add_layer(travel_route)\n",
    "fig "
   ]
  },
  {
   "cell_type": "code",
   "execution_count": 12,
   "metadata": {},
   "outputs": [
    {
     "data": {
      "text/html": [
       "<div>\n",
       "<style scoped>\n",
       "    .dataframe tbody tr th:only-of-type {\n",
       "        vertical-align: middle;\n",
       "    }\n",
       "\n",
       "    .dataframe tbody tr th {\n",
       "        vertical-align: top;\n",
       "    }\n",
       "\n",
       "    .dataframe thead th {\n",
       "        text-align: right;\n",
       "    }\n",
       "</style>\n",
       "<table border=\"1\" class=\"dataframe\">\n",
       "  <thead>\n",
       "    <tr style=\"text-align: right;\">\n",
       "      <th></th>\n",
       "      <th>City_ID</th>\n",
       "      <th>City</th>\n",
       "      <th>Country</th>\n",
       "      <th>Max Temp</th>\n",
       "      <th>Current Description</th>\n",
       "      <th>Lat</th>\n",
       "      <th>Lng</th>\n",
       "      <th>Hotel Name</th>\n",
       "    </tr>\n",
       "  </thead>\n",
       "  <tbody>\n",
       "    <tr>\n",
       "      <th>0</th>\n",
       "      <td>124</td>\n",
       "      <td>Meadow Lake</td>\n",
       "      <td>US</td>\n",
       "      <td>75.47</td>\n",
       "      <td>clear sky</td>\n",
       "      <td>34.8014</td>\n",
       "      <td>-106.5436</td>\n",
       "      <td>TumbleWeed RV Park</td>\n",
       "    </tr>\n",
       "    <tr>\n",
       "      <th>1</th>\n",
       "      <td>561</td>\n",
       "      <td>Tucumcari</td>\n",
       "      <td>US</td>\n",
       "      <td>75.04</td>\n",
       "      <td>clear sky</td>\n",
       "      <td>35.1717</td>\n",
       "      <td>-103.7250</td>\n",
       "      <td>Holiday Inn Express &amp; Suites Tucumcari, an IHG...</td>\n",
       "    </tr>\n",
       "    <tr>\n",
       "      <th>2</th>\n",
       "      <td>548</td>\n",
       "      <td>Rancho Palos Verdes</td>\n",
       "      <td>US</td>\n",
       "      <td>84.27</td>\n",
       "      <td>broken clouds</td>\n",
       "      <td>33.7445</td>\n",
       "      <td>-118.3870</td>\n",
       "      <td>Terranea Resort</td>\n",
       "    </tr>\n",
       "    <tr>\n",
       "      <th>3</th>\n",
       "      <td>434</td>\n",
       "      <td>Lompoc</td>\n",
       "      <td>US</td>\n",
       "      <td>75.78</td>\n",
       "      <td>few clouds</td>\n",
       "      <td>34.6391</td>\n",
       "      <td>-120.4579</td>\n",
       "      <td>Holiday Inn Express Lompoc, an IHG Hotel</td>\n",
       "    </tr>\n",
       "  </tbody>\n",
       "</table>\n",
       "</div>"
      ],
      "text/plain": [
       "   City_ID                 City Country  Max Temp Current Description  \\\n",
       "0      124          Meadow Lake      US     75.47           clear sky   \n",
       "1      561            Tucumcari      US     75.04           clear sky   \n",
       "2      548  Rancho Palos Verdes      US     84.27       broken clouds   \n",
       "3      434               Lompoc      US     75.78          few clouds   \n",
       "\n",
       "       Lat       Lng                                         Hotel Name  \n",
       "0  34.8014 -106.5436                                 TumbleWeed RV Park  \n",
       "1  35.1717 -103.7250  Holiday Inn Express & Suites Tucumcari, an IHG...  \n",
       "2  33.7445 -118.3870                                    Terranea Resort  \n",
       "3  34.6391 -120.4579           Holiday Inn Express Lompoc, an IHG Hotel  "
      ]
     },
     "execution_count": 12,
     "metadata": {},
     "output_type": "execute_result"
    }
   ],
   "source": [
    "# 8. To create a marker layer map between the four cities.\n",
    "#  Combine the four city DataFrames into one DataFrame using the concat() function.\n",
    "itinerary_df = pd.concat([vacation_start, vacation_stop2, vacation_stop3, vacation_stop4],ignore_index=True)\n",
    "itinerary_df "
   ]
  },
  {
   "cell_type": "code",
   "execution_count": 13,
   "metadata": {},
   "outputs": [],
   "source": [
    "# 9 Using the template add city name, the country code, the weather description and maximum temperature for the city. \n",
    "info_box_template = \"\"\"\n",
    "<dl>\n",
    "<dt>City</dt><dd>{City}</dd>\n",
    "<dt>Country</dt><dd>{Country}</dd>\n",
    "<dt>Weather Description</dt><dd>{Current Description}</dd>\n",
    "<dt>Max Temp</dt><dd>{Max Temp}</dd>\n",
    "</dl>\n",
    "\"\"\"\n",
    "\n",
    "# 10a Get the data from each row and add it to the formatting template and store the data in a list.\n",
    "hotel_info = [info_box_template.format(**row) for index, row in itinerary_df.iterrows()]\n",
    "\n",
    "# 10b. Get the latitude and longitude from each row and store in a new DataFrame.\n",
    "locations = itinerary_df[[\"Lat\", \"Lng\"]]"
   ]
  },
  {
   "cell_type": "code",
   "execution_count": 14,
   "metadata": {},
   "outputs": [
    {
     "data": {
      "application/vnd.jupyter.widget-view+json": {
       "model_id": "c2f1c2cc69bd4f0595f0c02e18a6d4b8",
       "version_major": 2,
       "version_minor": 0
      },
      "text/plain": [
       "Figure(layout=FigureLayout(height='420px'))"
      ]
     },
     "metadata": {},
     "output_type": "display_data"
    }
   ],
   "source": [
    "# 11a. Add a marker layer for each city to the map.\n",
    "\n",
    "fig = gmaps.figure()\n",
    "markers = gmaps.marker_layer(locations, info_box_content=hotel_info)\n",
    "fig.add_layer(markers)\n",
    "# 11b. Display the figure\n",
    "fig \n"
   ]
  },
  {
   "cell_type": "code",
   "execution_count": null,
   "metadata": {},
   "outputs": [],
   "source": []
  }
 ],
 "metadata": {
  "kernelspec": {
   "display_name": "PythonData",
   "language": "python",
   "name": "pythondata"
  },
  "language_info": {
   "codemirror_mode": {
    "name": "ipython",
    "version": 3
   },
   "file_extension": ".py",
   "mimetype": "text/x-python",
   "name": "python",
   "nbconvert_exporter": "python",
   "pygments_lexer": "ipython3",
   "version": "3.7.11"
  },
  "latex_envs": {
   "LaTeX_envs_menu_present": true,
   "autoclose": false,
   "autocomplete": true,
   "bibliofile": "biblio.bib",
   "cite_by": "apalike",
   "current_citInitial": 1,
   "eqLabelWithNumbers": true,
   "eqNumInitial": 1,
   "hotkeys": {
    "equation": "Ctrl-E",
    "itemize": "Ctrl-I"
   },
   "labels_anchors": false,
   "latex_user_defs": false,
   "report_style_numbering": false,
   "user_envs_cfg": false
  }
 },
 "nbformat": 4,
 "nbformat_minor": 2
}
